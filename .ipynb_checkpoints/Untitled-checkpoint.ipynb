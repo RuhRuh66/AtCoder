{
 "cells": [
  {
   "cell_type": "code",
   "execution_count": null,
   "metadata": {},
   "outputs": [],
   "source": []
  }
 ],
 "metadata": {
  "kernelspec": {
   "display_name": "Python 3.9.13 64-bit (microsoft store)",
   "language": "python",
   "name": "python3"
  },
  "language_info": {
   "name": "python",
   "version": "3.9.13"
  },
  "vscode": {
   "interpreter": {
    "hash": "d2ce49fb512bdc1a4c846dacd77c3f22d4e99dc7b4640915b89b4cb3c44e1408"
   }
  }
 },
 "nbformat": 4,
 "nbformat_minor": 5
}
